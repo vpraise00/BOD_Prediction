{
 "cells": [
  {
   "cell_type": "code",
   "execution_count": 28,
   "id": "e44869eb",
   "metadata": {},
   "outputs": [],
   "source": [
    "import os \n",
    "import pandas as pd\n",
    "import matplotlib.pyplot as plt\n",
    "import seaborn as sns"
   ]
  },
  {
   "cell_type": "code",
   "execution_count": 25,
   "id": "41d560a6",
   "metadata": {},
   "outputs": [
    {
     "name": "stdout",
     "output_type": "stream",
     "text": [
      "Current working directory: g:\\다른 컴퓨터\\Desktop\\학교자료\\학교 자료\\.학사과정\\4학년1학기\\비즈니스 어낼리틱스\\Code\\BOD_Prediction\\conformal_prediction\n",
      "Files in the current directory: ['predict.ipynb']\n"
     ]
    }
   ],
   "source": [
    "# 현재 작업 디렉터리 확인 및 파일 목록 보기\n",
    "print(\"Current working directory:\", os.getcwd())\n",
    "print(\"Files in the current directory:\", os.listdir())"
   ]
  },
  {
   "cell_type": "code",
   "execution_count": 26,
   "id": "0cb29985",
   "metadata": {},
   "outputs": [
    {
     "name": "stdout",
     "output_type": "stream",
     "text": [
      "Original Dataset first 5 rows:\n",
      "   location  company  reg_date  month  temper  rainfall  water_temper  in_bod  \\\n",
      "0        92    87103  20190101      1    -4.8       0.0           6.6    18.9   \n",
      "1        92    87103  20190102      1    -4.4       0.0           6.6    16.9   \n",
      "2        92    87103  20190103      1    -5.5       0.0           6.6    21.1   \n",
      "3        92    87103  20190104      1    -2.8       0.0           6.5    16.4   \n",
      "4        92    87103  20190105      1    -1.3       0.0           6.5    17.4   \n",
      "\n",
      "   in_cod  in_ss   in_tn  in_tp  in_bac   flux  \n",
      "0    21.0   13.3  14.184  0.946  5000.0  413.0  \n",
      "1    19.0   10.0  13.651  0.955  5000.0  357.0  \n",
      "2    18.4   17.3  17.357  0.850  4000.0  414.0  \n",
      "3    18.3   10.3  19.003  0.886  2000.0  400.0  \n",
      "4    18.2   11.7  18.773  0.907  4000.0  353.3  \n",
      "Entire Dataset first 5 rows:\n",
      "   location  company    reg_date  temper  rainfall  water_temper  in_bod  \\\n",
      "0        92    87103  2019-01-06    -5.5       0.0           6.6    16.2   \n",
      "1        92    87103  2019-01-07    -3.1       0.0           6.6    18.0   \n",
      "2        92    87103  2019-01-08    -0.8       0.0           6.6    24.4   \n",
      "3        92    87103  2019-01-09    -6.3       0.0           6.5    20.2   \n",
      "4        92    87103  2019-01-10    -0.6       0.0           6.5    17.3   \n",
      "\n",
      "   in_cod  in_ss   in_tn  ...  temper_5days_ago  rainfall_5days_ago  \\\n",
      "0    19.2   12.0  19.253  ...              -4.8                 0.0   \n",
      "1    19.1    9.6  15.360  ...              -4.4                 0.0   \n",
      "2    19.4   16.4  15.840  ...              -5.5                 0.0   \n",
      "3    15.3   11.2  11.520  ...              -2.8                 0.0   \n",
      "4    17.4    8.8  17.299  ...              -1.3                 0.0   \n",
      "\n",
      "   water_temper_5days_ago  in_bod_5days_ago  in_cod_5days_ago  \\\n",
      "0                     6.6              18.9              21.0   \n",
      "1                     6.6              16.9              19.0   \n",
      "2                     6.6              21.1              18.4   \n",
      "3                     6.5              16.4              18.3   \n",
      "4                     6.5              17.4              18.2   \n",
      "\n",
      "   in_ss_5days_ago  in_tn_5days_ago  in_tp_5days_ago  in_bac_5days_ago  \\\n",
      "0             13.3           14.184            0.946            5000.0   \n",
      "1             10.0           13.651            0.955            5000.0   \n",
      "2             17.3           17.357            0.850            4000.0   \n",
      "3             10.3           19.003            0.886            2000.0   \n",
      "4             11.7           18.773            0.907            4000.0   \n",
      "\n",
      "   flux_5days_ago  \n",
      "0           413.0  \n",
      "1           357.0  \n",
      "2           414.0  \n",
      "3           400.0  \n",
      "4           353.3  \n",
      "\n",
      "[5 rows x 24 columns]\n"
     ]
    }
   ],
   "source": [
    "# CSV 파일 불러오기\n",
    "bod_original = pd.read_csv('../../dataset/Original Dataset.csv')\n",
    "bod_entire = pd.read_csv('../../dataset/Entire_dataset_5days_ago_final.csv')\n",
    "\n",
    "# 데이터프레임의 첫 5개 행 출력\n",
    "print(\"Original Dataset first 5 rows:\")\n",
    "print(bod_original.head())\n",
    "print(\"Entire Dataset first 5 rows:\")\n",
    "print(bod_entire.head())"
   ]
  },
  {
   "cell_type": "markdown",
   "id": "ba81e7ef",
   "metadata": {},
   "source": [
    "# 데이터 분포 확인"
   ]
  },
  {
   "cell_type": "code",
   "execution_count": 27,
   "id": "e2b995c7",
   "metadata": {},
   "outputs": [
    {
     "ename": "ModuleNotFoundError",
     "evalue": "No module named 'matplotlib.backends._backend_agg'",
     "output_type": "error",
     "traceback": [
      "\u001b[1;31m---------------------------------------------------------------------------\u001b[0m",
      "\u001b[1;31mModuleNotFoundError\u001b[0m                       Traceback (most recent call last)",
      "Cell \u001b[1;32mIn[27], line 7\u001b[0m\n\u001b[0;32m      5\u001b[0m \u001b[38;5;66;03m# 2) 수치형 변수 분포 확인 (히스토그램 + KDE)\u001b[39;00m\n\u001b[0;32m      6\u001b[0m \u001b[38;5;28;01mfor\u001b[39;00m col \u001b[38;5;129;01min\u001b[39;00m numeric_cols:\n\u001b[1;32m----> 7\u001b[0m     \u001b[43mplt\u001b[49m\u001b[38;5;241;43m.\u001b[39;49m\u001b[43mfigure\u001b[49m\u001b[43m(\u001b[49m\u001b[43mfigsize\u001b[49m\u001b[38;5;241;43m=\u001b[39;49m\u001b[43m(\u001b[49m\u001b[38;5;241;43m6\u001b[39;49m\u001b[43m,\u001b[49m\u001b[38;5;241;43m4\u001b[39;49m\u001b[43m)\u001b[49m\u001b[43m)\u001b[49m\n\u001b[0;32m      8\u001b[0m     sns\u001b[38;5;241m.\u001b[39mhistplot(bod_original[col]\u001b[38;5;241m.\u001b[39mdropna(), kde\u001b[38;5;241m=\u001b[39m\u001b[38;5;28;01mTrue\u001b[39;00m, bins\u001b[38;5;241m=\u001b[39m\u001b[38;5;241m30\u001b[39m)\n\u001b[0;32m      9\u001b[0m     plt\u001b[38;5;241m.\u001b[39mtitle(\u001b[38;5;124mf\u001b[39m\u001b[38;5;124m'\u001b[39m\u001b[38;5;132;01m{\u001b[39;00mcol\u001b[38;5;132;01m}\u001b[39;00m\u001b[38;5;124m Distribution (Histogram + KDE)\u001b[39m\u001b[38;5;124m'\u001b[39m)\n",
      "File \u001b[1;32mc:\\Users\\vprai\\anaconda3\\envs\\bod\\lib\\site-packages\\matplotlib\\pyplot.py:1042\u001b[0m, in \u001b[0;36mfigure\u001b[1;34m(num, figsize, dpi, facecolor, edgecolor, frameon, FigureClass, clear, **kwargs)\u001b[0m\n\u001b[0;32m   1032\u001b[0m \u001b[38;5;28;01mif\u001b[39;00m \u001b[38;5;28mlen\u001b[39m(allnums) \u001b[38;5;241m==\u001b[39m max_open_warning \u001b[38;5;241m>\u001b[39m\u001b[38;5;241m=\u001b[39m \u001b[38;5;241m1\u001b[39m:\n\u001b[0;32m   1033\u001b[0m     _api\u001b[38;5;241m.\u001b[39mwarn_external(\n\u001b[0;32m   1034\u001b[0m         \u001b[38;5;124mf\u001b[39m\u001b[38;5;124m\"\u001b[39m\u001b[38;5;124mMore than \u001b[39m\u001b[38;5;132;01m{\u001b[39;00mmax_open_warning\u001b[38;5;132;01m}\u001b[39;00m\u001b[38;5;124m figures have been opened. \u001b[39m\u001b[38;5;124m\"\u001b[39m\n\u001b[0;32m   1035\u001b[0m         \u001b[38;5;124mf\u001b[39m\u001b[38;5;124m\"\u001b[39m\u001b[38;5;124mFigures created through the pyplot interface \u001b[39m\u001b[38;5;124m\"\u001b[39m\n\u001b[1;32m   (...)\u001b[0m\n\u001b[0;32m   1039\u001b[0m         \u001b[38;5;124mf\u001b[39m\u001b[38;5;124m\"\u001b[39m\u001b[38;5;124mConsider using `matplotlib.pyplot.close()`.\u001b[39m\u001b[38;5;124m\"\u001b[39m,\n\u001b[0;32m   1040\u001b[0m         \u001b[38;5;167;01mRuntimeWarning\u001b[39;00m)\n\u001b[1;32m-> 1042\u001b[0m manager \u001b[38;5;241m=\u001b[39m new_figure_manager(\n\u001b[0;32m   1043\u001b[0m     num, figsize\u001b[38;5;241m=\u001b[39mfigsize, dpi\u001b[38;5;241m=\u001b[39mdpi,\n\u001b[0;32m   1044\u001b[0m     facecolor\u001b[38;5;241m=\u001b[39mfacecolor, edgecolor\u001b[38;5;241m=\u001b[39medgecolor, frameon\u001b[38;5;241m=\u001b[39mframeon,\n\u001b[0;32m   1045\u001b[0m     FigureClass\u001b[38;5;241m=\u001b[39mFigureClass, \u001b[38;5;241m*\u001b[39m\u001b[38;5;241m*\u001b[39mkwargs)\n\u001b[0;32m   1046\u001b[0m fig \u001b[38;5;241m=\u001b[39m manager\u001b[38;5;241m.\u001b[39mcanvas\u001b[38;5;241m.\u001b[39mfigure\n\u001b[0;32m   1047\u001b[0m \u001b[38;5;28;01mif\u001b[39;00m fig_label:\n",
      "File \u001b[1;32mc:\\Users\\vprai\\anaconda3\\envs\\bod\\lib\\site-packages\\matplotlib\\pyplot.py:551\u001b[0m, in \u001b[0;36mnew_figure_manager\u001b[1;34m(*args, **kwargs)\u001b[0m\n\u001b[0;32m    549\u001b[0m \u001b[38;5;28;01mdef\u001b[39;00m\u001b[38;5;250m \u001b[39m\u001b[38;5;21mnew_figure_manager\u001b[39m(\u001b[38;5;241m*\u001b[39margs, \u001b[38;5;241m*\u001b[39m\u001b[38;5;241m*\u001b[39mkwargs):\n\u001b[0;32m    550\u001b[0m \u001b[38;5;250m    \u001b[39m\u001b[38;5;124;03m\"\"\"Create a new figure manager instance.\"\"\"\u001b[39;00m\n\u001b[1;32m--> 551\u001b[0m     \u001b[43m_warn_if_gui_out_of_main_thread\u001b[49m\u001b[43m(\u001b[49m\u001b[43m)\u001b[49m\n\u001b[0;32m    552\u001b[0m     \u001b[38;5;28;01mreturn\u001b[39;00m _get_backend_mod()\u001b[38;5;241m.\u001b[39mnew_figure_manager(\u001b[38;5;241m*\u001b[39margs, \u001b[38;5;241m*\u001b[39m\u001b[38;5;241m*\u001b[39mkwargs)\n",
      "File \u001b[1;32mc:\\Users\\vprai\\anaconda3\\envs\\bod\\lib\\site-packages\\matplotlib\\pyplot.py:528\u001b[0m, in \u001b[0;36m_warn_if_gui_out_of_main_thread\u001b[1;34m()\u001b[0m\n\u001b[0;32m    526\u001b[0m \u001b[38;5;28;01mdef\u001b[39;00m\u001b[38;5;250m \u001b[39m\u001b[38;5;21m_warn_if_gui_out_of_main_thread\u001b[39m() \u001b[38;5;241m-\u001b[39m\u001b[38;5;241m>\u001b[39m \u001b[38;5;28;01mNone\u001b[39;00m:\n\u001b[0;32m    527\u001b[0m     warn \u001b[38;5;241m=\u001b[39m \u001b[38;5;28;01mFalse\u001b[39;00m\n\u001b[1;32m--> 528\u001b[0m     canvas_class \u001b[38;5;241m=\u001b[39m cast(\u001b[38;5;28mtype\u001b[39m[FigureCanvasBase], \u001b[43m_get_backend_mod\u001b[49m\u001b[43m(\u001b[49m\u001b[43m)\u001b[49m\u001b[38;5;241m.\u001b[39mFigureCanvas)\n\u001b[0;32m    529\u001b[0m     \u001b[38;5;28;01mif\u001b[39;00m canvas_class\u001b[38;5;241m.\u001b[39mrequired_interactive_framework:\n\u001b[0;32m    530\u001b[0m         \u001b[38;5;28;01mif\u001b[39;00m \u001b[38;5;28mhasattr\u001b[39m(threading, \u001b[38;5;124m'\u001b[39m\u001b[38;5;124mget_native_id\u001b[39m\u001b[38;5;124m'\u001b[39m):\n\u001b[0;32m    531\u001b[0m             \u001b[38;5;66;03m# This compares native thread ids because even if Python-level\u001b[39;00m\n\u001b[0;32m    532\u001b[0m             \u001b[38;5;66;03m# Thread objects match, the underlying OS thread (which is what\u001b[39;00m\n\u001b[0;32m    533\u001b[0m             \u001b[38;5;66;03m# really matters) may be different on Python implementations with\u001b[39;00m\n\u001b[0;32m    534\u001b[0m             \u001b[38;5;66;03m# green threads.\u001b[39;00m\n",
      "File \u001b[1;32mc:\\Users\\vprai\\anaconda3\\envs\\bod\\lib\\site-packages\\matplotlib\\pyplot.py:369\u001b[0m, in \u001b[0;36m_get_backend_mod\u001b[1;34m()\u001b[0m\n\u001b[0;32m    360\u001b[0m \u001b[38;5;250m\u001b[39m\u001b[38;5;124;03m\"\"\"\u001b[39;00m\n\u001b[0;32m    361\u001b[0m \u001b[38;5;124;03mEnsure that a backend is selected and return it.\u001b[39;00m\n\u001b[0;32m    362\u001b[0m \n\u001b[0;32m    363\u001b[0m \u001b[38;5;124;03mThis is currently private, but may be made public in the future.\u001b[39;00m\n\u001b[0;32m    364\u001b[0m \u001b[38;5;124;03m\"\"\"\u001b[39;00m\n\u001b[0;32m    365\u001b[0m \u001b[38;5;28;01mif\u001b[39;00m _backend_mod \u001b[38;5;129;01mis\u001b[39;00m \u001b[38;5;28;01mNone\u001b[39;00m:\n\u001b[0;32m    366\u001b[0m     \u001b[38;5;66;03m# Use rcParams._get(\"backend\") to avoid going through the fallback\u001b[39;00m\n\u001b[0;32m    367\u001b[0m     \u001b[38;5;66;03m# logic (which will (re)import pyplot and then call switch_backend if\u001b[39;00m\n\u001b[0;32m    368\u001b[0m     \u001b[38;5;66;03m# we need to resolve the auto sentinel)\u001b[39;00m\n\u001b[1;32m--> 369\u001b[0m     \u001b[43mswitch_backend\u001b[49m\u001b[43m(\u001b[49m\u001b[43mrcParams\u001b[49m\u001b[38;5;241;43m.\u001b[39;49m\u001b[43m_get\u001b[49m\u001b[43m(\u001b[49m\u001b[38;5;124;43m\"\u001b[39;49m\u001b[38;5;124;43mbackend\u001b[39;49m\u001b[38;5;124;43m\"\u001b[39;49m\u001b[43m)\u001b[49m\u001b[43m)\u001b[49m\n\u001b[0;32m    370\u001b[0m \u001b[38;5;28;01mreturn\u001b[39;00m cast(\u001b[38;5;28mtype\u001b[39m[matplotlib\u001b[38;5;241m.\u001b[39mbackend_bases\u001b[38;5;241m.\u001b[39m_Backend], _backend_mod)\n",
      "File \u001b[1;32mc:\\Users\\vprai\\anaconda3\\envs\\bod\\lib\\site-packages\\matplotlib\\pyplot.py:425\u001b[0m, in \u001b[0;36mswitch_backend\u001b[1;34m(newbackend)\u001b[0m\n\u001b[0;32m    422\u001b[0m         \u001b[38;5;28;01mreturn\u001b[39;00m\n\u001b[0;32m    423\u001b[0m old_backend \u001b[38;5;241m=\u001b[39m rcParams\u001b[38;5;241m.\u001b[39m_get(\u001b[38;5;124m'\u001b[39m\u001b[38;5;124mbackend\u001b[39m\u001b[38;5;124m'\u001b[39m)  \u001b[38;5;66;03m# get without triggering backend resolution\u001b[39;00m\n\u001b[1;32m--> 425\u001b[0m module \u001b[38;5;241m=\u001b[39m \u001b[43mbackend_registry\u001b[49m\u001b[38;5;241;43m.\u001b[39;49m\u001b[43mload_backend_module\u001b[49m\u001b[43m(\u001b[49m\u001b[43mnewbackend\u001b[49m\u001b[43m)\u001b[49m\n\u001b[0;32m    426\u001b[0m canvas_class \u001b[38;5;241m=\u001b[39m module\u001b[38;5;241m.\u001b[39mFigureCanvas\n\u001b[0;32m    428\u001b[0m required_framework \u001b[38;5;241m=\u001b[39m canvas_class\u001b[38;5;241m.\u001b[39mrequired_interactive_framework\n",
      "File \u001b[1;32mc:\\Users\\vprai\\anaconda3\\envs\\bod\\lib\\site-packages\\matplotlib\\backends\\registry.py:317\u001b[0m, in \u001b[0;36mBackendRegistry.load_backend_module\u001b[1;34m(self, backend)\u001b[0m\n\u001b[0;32m    303\u001b[0m \u001b[38;5;250m\u001b[39m\u001b[38;5;124;03m\"\"\"\u001b[39;00m\n\u001b[0;32m    304\u001b[0m \u001b[38;5;124;03mLoad and return the module containing the specified backend.\u001b[39;00m\n\u001b[0;32m    305\u001b[0m \n\u001b[1;32m   (...)\u001b[0m\n\u001b[0;32m    314\u001b[0m \u001b[38;5;124;03m    Module containing backend.\u001b[39;00m\n\u001b[0;32m    315\u001b[0m \u001b[38;5;124;03m\"\"\"\u001b[39;00m\n\u001b[0;32m    316\u001b[0m module_name \u001b[38;5;241m=\u001b[39m \u001b[38;5;28mself\u001b[39m\u001b[38;5;241m.\u001b[39m_backend_module_name(backend)\n\u001b[1;32m--> 317\u001b[0m \u001b[38;5;28;01mreturn\u001b[39;00m \u001b[43mimportlib\u001b[49m\u001b[38;5;241;43m.\u001b[39;49m\u001b[43mimport_module\u001b[49m\u001b[43m(\u001b[49m\u001b[43mmodule_name\u001b[49m\u001b[43m)\u001b[49m\n",
      "File \u001b[1;32mc:\\Users\\vprai\\anaconda3\\envs\\bod\\lib\\importlib\\__init__.py:126\u001b[0m, in \u001b[0;36mimport_module\u001b[1;34m(name, package)\u001b[0m\n\u001b[0;32m    124\u001b[0m             \u001b[38;5;28;01mbreak\u001b[39;00m\n\u001b[0;32m    125\u001b[0m         level \u001b[38;5;241m+\u001b[39m\u001b[38;5;241m=\u001b[39m \u001b[38;5;241m1\u001b[39m\n\u001b[1;32m--> 126\u001b[0m \u001b[38;5;28;01mreturn\u001b[39;00m \u001b[43m_bootstrap\u001b[49m\u001b[38;5;241;43m.\u001b[39;49m\u001b[43m_gcd_import\u001b[49m\u001b[43m(\u001b[49m\u001b[43mname\u001b[49m\u001b[43m[\u001b[49m\u001b[43mlevel\u001b[49m\u001b[43m:\u001b[49m\u001b[43m]\u001b[49m\u001b[43m,\u001b[49m\u001b[43m \u001b[49m\u001b[43mpackage\u001b[49m\u001b[43m,\u001b[49m\u001b[43m \u001b[49m\u001b[43mlevel\u001b[49m\u001b[43m)\u001b[49m\n",
      "File \u001b[1;32m<frozen importlib._bootstrap>:1050\u001b[0m, in \u001b[0;36m_gcd_import\u001b[1;34m(name, package, level)\u001b[0m\n",
      "File \u001b[1;32m<frozen importlib._bootstrap>:1027\u001b[0m, in \u001b[0;36m_find_and_load\u001b[1;34m(name, import_)\u001b[0m\n",
      "File \u001b[1;32m<frozen importlib._bootstrap>:992\u001b[0m, in \u001b[0;36m_find_and_load_unlocked\u001b[1;34m(name, import_)\u001b[0m\n",
      "File \u001b[1;32m<frozen importlib._bootstrap>:241\u001b[0m, in \u001b[0;36m_call_with_frames_removed\u001b[1;34m(f, *args, **kwds)\u001b[0m\n",
      "File \u001b[1;32m<frozen importlib._bootstrap>:1050\u001b[0m, in \u001b[0;36m_gcd_import\u001b[1;34m(name, package, level)\u001b[0m\n",
      "File \u001b[1;32m<frozen importlib._bootstrap>:1027\u001b[0m, in \u001b[0;36m_find_and_load\u001b[1;34m(name, import_)\u001b[0m\n",
      "File \u001b[1;32m<frozen importlib._bootstrap>:1006\u001b[0m, in \u001b[0;36m_find_and_load_unlocked\u001b[1;34m(name, import_)\u001b[0m\n",
      "File \u001b[1;32m<frozen importlib._bootstrap>:688\u001b[0m, in \u001b[0;36m_load_unlocked\u001b[1;34m(spec)\u001b[0m\n",
      "File \u001b[1;32m<frozen importlib._bootstrap_external>:883\u001b[0m, in \u001b[0;36mexec_module\u001b[1;34m(self, module)\u001b[0m\n",
      "File \u001b[1;32m<frozen importlib._bootstrap>:241\u001b[0m, in \u001b[0;36m_call_with_frames_removed\u001b[1;34m(f, *args, **kwds)\u001b[0m\n",
      "File \u001b[1;32mc:\\Users\\vprai\\anaconda3\\envs\\bod\\lib\\site-packages\\matplotlib_inline\\__init__.py:1\u001b[0m\n\u001b[1;32m----> 1\u001b[0m \u001b[38;5;28;01mfrom\u001b[39;00m\u001b[38;5;250m \u001b[39m\u001b[38;5;21;01m.\u001b[39;00m\u001b[38;5;250m \u001b[39m\u001b[38;5;28;01mimport\u001b[39;00m backend_inline, config  \u001b[38;5;66;03m# noqa\u001b[39;00m\n\u001b[0;32m      2\u001b[0m __version__ \u001b[38;5;241m=\u001b[39m \u001b[38;5;124m\"\u001b[39m\u001b[38;5;124m0.1.7\u001b[39m\u001b[38;5;124m\"\u001b[39m  \u001b[38;5;66;03m# noqa\u001b[39;00m\n",
      "File \u001b[1;32mc:\\Users\\vprai\\anaconda3\\envs\\bod\\lib\\site-packages\\matplotlib_inline\\backend_inline.py:8\u001b[0m\n\u001b[0;32m      6\u001b[0m \u001b[38;5;28;01mimport\u001b[39;00m\u001b[38;5;250m \u001b[39m\u001b[38;5;21;01mmatplotlib\u001b[39;00m\n\u001b[0;32m      7\u001b[0m \u001b[38;5;28;01mfrom\u001b[39;00m\u001b[38;5;250m \u001b[39m\u001b[38;5;21;01mmatplotlib\u001b[39;00m\u001b[38;5;250m \u001b[39m\u001b[38;5;28;01mimport\u001b[39;00m colors\n\u001b[1;32m----> 8\u001b[0m \u001b[38;5;28;01mfrom\u001b[39;00m\u001b[38;5;250m \u001b[39m\u001b[38;5;21;01mmatplotlib\u001b[39;00m\u001b[38;5;21;01m.\u001b[39;00m\u001b[38;5;21;01mbackends\u001b[39;00m\u001b[38;5;250m \u001b[39m\u001b[38;5;28;01mimport\u001b[39;00m backend_agg\n\u001b[0;32m      9\u001b[0m \u001b[38;5;28;01mfrom\u001b[39;00m\u001b[38;5;250m \u001b[39m\u001b[38;5;21;01mmatplotlib\u001b[39;00m\u001b[38;5;21;01m.\u001b[39;00m\u001b[38;5;21;01mbackends\u001b[39;00m\u001b[38;5;21;01m.\u001b[39;00m\u001b[38;5;21;01mbackend_agg\u001b[39;00m\u001b[38;5;250m \u001b[39m\u001b[38;5;28;01mimport\u001b[39;00m FigureCanvasAgg\n\u001b[0;32m     10\u001b[0m \u001b[38;5;28;01mfrom\u001b[39;00m\u001b[38;5;250m \u001b[39m\u001b[38;5;21;01mmatplotlib\u001b[39;00m\u001b[38;5;21;01m.\u001b[39;00m\u001b[38;5;21;01m_pylab_helpers\u001b[39;00m\u001b[38;5;250m \u001b[39m\u001b[38;5;28;01mimport\u001b[39;00m Gcf\n",
      "File \u001b[1;32mc:\\Users\\vprai\\anaconda3\\envs\\bod\\lib\\site-packages\\matplotlib\\backends\\backend_agg.py:38\u001b[0m\n\u001b[0;32m     36\u001b[0m \u001b[38;5;28;01mfrom\u001b[39;00m\u001b[38;5;250m \u001b[39m\u001b[38;5;21;01mmatplotlib\u001b[39;00m\u001b[38;5;21;01m.\u001b[39;00m\u001b[38;5;21;01mpath\u001b[39;00m\u001b[38;5;250m \u001b[39m\u001b[38;5;28;01mimport\u001b[39;00m Path\n\u001b[0;32m     37\u001b[0m \u001b[38;5;28;01mfrom\u001b[39;00m\u001b[38;5;250m \u001b[39m\u001b[38;5;21;01mmatplotlib\u001b[39;00m\u001b[38;5;21;01m.\u001b[39;00m\u001b[38;5;21;01mtransforms\u001b[39;00m\u001b[38;5;250m \u001b[39m\u001b[38;5;28;01mimport\u001b[39;00m Bbox, BboxBase\n\u001b[1;32m---> 38\u001b[0m \u001b[38;5;28;01mfrom\u001b[39;00m\u001b[38;5;250m \u001b[39m\u001b[38;5;21;01mmatplotlib\u001b[39;00m\u001b[38;5;21;01m.\u001b[39;00m\u001b[38;5;21;01mbackends\u001b[39;00m\u001b[38;5;21;01m.\u001b[39;00m\u001b[38;5;21;01m_backend_agg\u001b[39;00m\u001b[38;5;250m \u001b[39m\u001b[38;5;28;01mimport\u001b[39;00m RendererAgg \u001b[38;5;28;01mas\u001b[39;00m _RendererAgg\n\u001b[0;32m     41\u001b[0m \u001b[38;5;28;01mdef\u001b[39;00m\u001b[38;5;250m \u001b[39m\u001b[38;5;21mget_hinting_flag\u001b[39m():\n\u001b[0;32m     42\u001b[0m     mapping \u001b[38;5;241m=\u001b[39m {\n\u001b[0;32m     43\u001b[0m         \u001b[38;5;124m'\u001b[39m\u001b[38;5;124mdefault\u001b[39m\u001b[38;5;124m'\u001b[39m: LoadFlags\u001b[38;5;241m.\u001b[39mDEFAULT,\n\u001b[0;32m     44\u001b[0m         \u001b[38;5;124m'\u001b[39m\u001b[38;5;124mno_autohint\u001b[39m\u001b[38;5;124m'\u001b[39m: LoadFlags\u001b[38;5;241m.\u001b[39mNO_AUTOHINT,\n\u001b[1;32m   (...)\u001b[0m\n\u001b[0;32m     52\u001b[0m         \u001b[38;5;124m'\u001b[39m\u001b[38;5;124mnone\u001b[39m\u001b[38;5;124m'\u001b[39m: LoadFlags\u001b[38;5;241m.\u001b[39mNO_HINTING,\n\u001b[0;32m     53\u001b[0m     }\n",
      "\u001b[1;31mModuleNotFoundError\u001b[0m: No module named 'matplotlib.backends._backend_agg'"
     ]
    }
   ],
   "source": [
    "# 1) 변수 타입별로 분류\n",
    "numeric_cols     = bod_original.select_dtypes(include=['int64','float64']).columns.tolist()\n",
    "categorical_cols = bod_original.select_dtypes(include=['object','category']).columns.tolist()\n",
    "\n",
    "# 2) 수치형 변수 분포 확인 (히스토그램 + KDE)\n",
    "for col in numeric_cols:\n",
    "    plt.figure(figsize=(6,4))\n",
    "    sns.histplot(bod_original[col].dropna(), kde=True, bins=30)\n",
    "    plt.title(f'{col} Distribution (Histogram + KDE)')\n",
    "    plt.xlabel(col)\n",
    "    plt.ylabel('빈도')\n",
    "    plt.tight_layout()\n",
    "    plt.show()\n",
    "\n",
    "# 3) 범주형 변수 분포 확인 (막대 그래프)\n",
    "for col in categorical_cols:\n",
    "    plt.figure(figsize=(6,4))\n",
    "    # 만약 고유값이 너무 많다면 상위 N개만 표시\n",
    "    order = bod_original[col].value_counts().index\n",
    "    sns.countplot(data=bod_original, y=col, order=order)\n",
    "    plt.title(f'{col} Countplot (Countplot)')\n",
    "    plt.xlabel('num')\n",
    "    plt.ylabel(col)\n",
    "    plt.tight_layout()\n",
    "    plt.show()"
   ]
  },
  {
   "cell_type": "code",
   "execution_count": null,
   "id": "c8be8119",
   "metadata": {},
   "outputs": [
    {
     "name": "stdout",
     "output_type": "stream",
     "text": [
      "         feature  pearson_r        p_value\n",
      "0         in_cod   0.756993   0.000000e+00\n",
      "1          in_ss   0.630978   0.000000e+00\n",
      "2          in_tp   0.642264   0.000000e+00\n",
      "3          in_tn   0.626477   0.000000e+00\n",
      "4         in_bac   0.375305  2.436249e-244\n",
      "5           flux  -0.250022  4.702577e-105\n",
      "6        company  -0.221365   3.389583e-82\n",
      "7       rainfall  -0.075199   1.104565e-10\n",
      "8         temper  -0.073405   3.023375e-10\n",
      "9   water_temper   0.026924   2.104407e-02\n",
      "10      reg_date   0.019017   1.032171e-01\n",
      "11         month   0.008526   4.650992e-01\n",
      "12      location        NaN            NaN\n"
     ]
    },
    {
     "name": "stderr",
     "output_type": "stream",
     "text": [
      "C:\\Users\\vprai\\AppData\\Local\\Temp\\ipykernel_39984\\1409678882.py:12: ConstantInputWarning: An input array is constant; the correlation coefficient is not defined.\n",
      "  r, p = pearsonr(clean_df['in_bod'], clean_df[col])\n"
     ]
    }
   ],
   "source": [
    "# 상관관계 분석\n",
    "from scipy.stats import pearsonr\n",
    "\n",
    "# 2) 수치형 변수만 선택하고 in_bod는 제외\n",
    "numeric_cols = bod_original.select_dtypes(include=['int64', 'float64']).columns.tolist()\n",
    "numeric_cols.remove('in_bod')\n",
    "\n",
    "# 3) 각 변수와 in_bod 간의 Pearson 상관계수 및 p-value 계산\n",
    "results = []\n",
    "for col in numeric_cols:\n",
    "    clean_df = bod_original[['in_bod', col]].dropna()\n",
    "    r, p = pearsonr(clean_df['in_bod'], clean_df[col])\n",
    "    results.append({'feature': col, 'pearson_r': r, 'p_value': p})\n",
    "\n",
    "# 4) 결과 DataFrame 생성 및 p-value 기준 정렬\n",
    "results_df = pd.DataFrame(results).sort_values('p_value').reset_index(drop=True)\n",
    "\n",
    "# 5) 결과 출력\n",
    "print(results_df)"
   ]
  },
  {
   "cell_type": "markdown",
   "id": "2dfaed57",
   "metadata": {},
   "source": [
    "| 순위 | 변수            | 상관계수(r) | p-값      | 해석                                        |\n",
    "| -- | ------------- | ------- | -------- | ----------------------------------------- |\n",
    "| 1  | in\\_cod       | +0.757  | ≈0       | BOD와 가장 강한 양의 선형관계. COD가 높을수록 BOD도 높아짐.   |\n",
    "| 2  | in\\_tp        | +0.642  | ≈0       | 총인과도 강한 양의 상관. 영양염류 농도가 높을수록 BOD 상승 경향.   |\n",
    "| 3  | in\\_ss        | +0.631  | ≈0       | 부유물질(SS)도 뚜렷한 양의 상관을 보임.                  |\n",
    "| 4  | in\\_tn        | +0.626  | ≈0       | 총질소 역시 높은 양의 상관관계.                        |\n",
    "| 5  | in\\_bac       | +0.375  | 2.4e-244 | 대장균군수와 중간 정도 양의 상관.                       |\n",
    "| 6  | flux          | –0.250  | 4.7e-105 | 유량과는 음의 상관. 유량이 많을수록 BOD가 희석되어 낮아지는 경향.   |\n",
    "| 7  | company       | –0.221  | 3.4e-82  | 회사 ID와 상관이 있지만, 수치형 인코딩된 범주형 변수라 해석 유의.   |\n",
    "| 8  | rainfall      | –0.075  | 1.1e-10  | 강우량과 약한 음의 상관. 비가 올 때 BOD가 소폭 낮아질 수 있음.   |\n",
    "| 9  | temper        | –0.073  | 3.0e-10  | 기온과도 약한 음의 상관. 낮은 기온일수록 BOD가 소폭 높아질 수 있음. |\n",
    "| 10 | water\\_temper | +0.027  | 0.021    | 수온과 거의 무시해도 될 수준의 약한 양의 상관.               |\n",
    "| 11 | reg\\_date     | +0.019  | 0.103    | 날짜 자체(시간 경과)와는 유의미한 상관 없음.                |\n",
    "| 12 | month         | +0.009  | 0.465    | 월별 계절성 지표도 BOD와 관계 거의 없음.                 |\n"
   ]
  },
  {
   "cell_type": "code",
   "execution_count": null,
   "id": "50540c88",
   "metadata": {},
   "outputs": [
    {
     "ename": "NameError",
     "evalue": "name 'bod_original' is not defined",
     "output_type": "error",
     "traceback": [
      "\u001b[1;31m---------------------------------------------------------------------------\u001b[0m",
      "\u001b[1;31mNameError\u001b[0m                                 Traceback (most recent call last)",
      "Cell \u001b[1;32mIn[1], line 2\u001b[0m\n\u001b[0;32m      1\u001b[0m \u001b[38;5;66;03m# 2) 수치형 변수만 선택\u001b[39;00m\n\u001b[1;32m----> 2\u001b[0m numeric_cols \u001b[38;5;241m=\u001b[39m \u001b[43mbod_original\u001b[49m\u001b[38;5;241m.\u001b[39mselect_dtypes(include\u001b[38;5;241m=\u001b[39m[\u001b[38;5;124m'\u001b[39m\u001b[38;5;124mint64\u001b[39m\u001b[38;5;124m'\u001b[39m, \u001b[38;5;124m'\u001b[39m\u001b[38;5;124mfloat64\u001b[39m\u001b[38;5;124m'\u001b[39m])\u001b[38;5;241m.\u001b[39mcolumns\u001b[38;5;241m.\u001b[39mtolist()\n\u001b[0;32m      4\u001b[0m \u001b[38;5;66;03m# 3) 상관계수 행렬 계산\u001b[39;00m\n\u001b[0;32m      5\u001b[0m corr_matrix \u001b[38;5;241m=\u001b[39m bod_original[numeric_cols]\u001b[38;5;241m.\u001b[39mcorr()\n",
      "\u001b[1;31mNameError\u001b[0m: name 'bod_original' is not defined"
     ]
    }
   ],
   "source": [
    "# 2) 수치형 변수만 선택\n",
    "numeric_cols = bod_original.select_dtypes(include=['int64', 'float64']).columns.tolist()\n",
    "\n",
    "# 3) 상관계수 행렬 계산\n",
    "corr_matrix = bod_original[numeric_cols].corr()\n",
    "\n",
    "# 4) 히트맵 그리기\n",
    "plt.figure(figsize=(10, 8))\n",
    "plt.imshow(corr_matrix, aspect='auto')\n",
    "plt.colorbar(label='Correlation Coefficient')\n",
    "plt.xticks(range(len(numeric_cols)), numeric_cols, rotation=90)\n",
    "plt.yticks(range(len(numeric_cols)), numeric_cols)\n",
    "plt.title('Numeric Features Correlation Matrix Heatmap')\n",
    "plt.tight_layout()\n",
    "plt.show()\n"
   ]
  },
  {
   "cell_type": "markdown",
   "id": "050e55fc",
   "metadata": {},
   "source": [
    "# SARIMAX 모델을 사용하여 예측하기 위한 데이터 전처리"
   ]
  },
  {
   "cell_type": "code",
   "execution_count": null,
   "id": "9319c09e",
   "metadata": {},
   "outputs": [],
   "source": [
    "#SARIMAX 모델을 사용하여 예측하기 위한 데이터 전처리"
   ]
  }
 ],
 "metadata": {
  "kernelspec": {
   "display_name": "bod",
   "language": "python",
   "name": "python3"
  },
  "language_info": {
   "codemirror_mode": {
    "name": "ipython",
    "version": 3
   },
   "file_extension": ".py",
   "mimetype": "text/x-python",
   "name": "python",
   "nbconvert_exporter": "python",
   "pygments_lexer": "ipython3",
   "version": "3.10.17"
  }
 },
 "nbformat": 4,
 "nbformat_minor": 5
}
